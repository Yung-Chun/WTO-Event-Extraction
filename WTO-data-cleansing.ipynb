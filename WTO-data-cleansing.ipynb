{
 "cells": [
  {
   "cell_type": "code",
   "execution_count": 1,
   "id": "68a23dc6",
   "metadata": {},
   "outputs": [
    {
     "name": "stdout",
     "output_type": "stream",
     "text": [
      "Intel MKL WARNING: Support of Intel(R) Streaming SIMD Extensions 4.2 (Intel(R) SSE4.2) enabled only processors has been deprecated. Intel oneAPI Math Kernel Library 2025.0 will require Intel(R) Advanced Vector Extensions (Intel(R) AVX) instructions.\n",
      "Intel MKL WARNING: Support of Intel(R) Streaming SIMD Extensions 4.2 (Intel(R) SSE4.2) enabled only processors has been deprecated. Intel oneAPI Math Kernel Library 2025.0 will require Intel(R) Advanced Vector Extensions (Intel(R) AVX) instructions.\n",
      "1.5.3\n"
     ]
    }
   ],
   "source": [
    "import pandas as pd\n",
    "print(pd.__version__)\n",
    "import json\n",
    "from tqdm import tqdm\n",
    "from datetime import datetime\n",
    "import requests\n",
    "import os\n",
    "\n",
    "import spacy\n",
    "from spacy.language import Language\n",
    "from spacy_langdetect import LanguageDetector\n",
    "!python -m spacy download en_core_web_sm -q"
   ]
  },
  {
   "cell_type": "markdown",
   "id": "4782d018",
   "metadata": {},
   "source": [
    "# Load raw data"
   ]
  },
  {
   "cell_type": "markdown",
   "id": "3fb1067e",
   "metadata": {},
   "source": [
    "data on my github:\n",
    "https://github.com/Yung-Chun/WTO-News-and-Events-Archive-Crawler/blob/main/WTO_data_article/all_article_content.json"
   ]
  },
  {
   "cell_type": "code",
   "execution_count": 2,
   "id": "070b4af0",
   "metadata": {},
   "outputs": [
    {
     "name": "stdout",
     "output_type": "stream",
     "text": [
      "Seccessfully fetched data. Status code: 200\n"
     ]
    }
   ],
   "source": [
    "# URL of the JSON file\n",
    "url = \"https://raw.githubusercontent.com/Yung-Chun/WTO-News-and-Events-Archive-Crawler/main/WTO_data_article/all_article_content.json\"\n",
    "\n",
    "try:\n",
    "    # Fetch the data from the URL\n",
    "    response = requests.get(url)\n",
    "    \n",
    "    # Check if the request was successful (status code 200)\n",
    "    if response.status_code == 200:\n",
    "        \n",
    "        # Parse JSON data\n",
    "        all_article_content = response.json()\n",
    "        print(\"Seccessfully fetched data. Status code:\", response.status_code)\n",
    "        \n",
    "    else:\n",
    "        print(\"Failed to fetch data. Status code:\", response.status_code)\n",
    "\n",
    "except requests.exceptions.RequestException as e:\n",
    "    print(\"Error fetching data:\", e)"
   ]
  },
  {
   "cell_type": "code",
   "execution_count": 3,
   "id": "7800394c",
   "metadata": {},
   "outputs": [
    {
     "data": {
      "text/plain": [
       "8680"
      ]
     },
     "execution_count": 3,
     "metadata": {},
     "output_type": "execute_result"
    }
   ],
   "source": [
    "len(all_article_content)"
   ]
  },
  {
   "cell_type": "code",
   "execution_count": 8,
   "id": "4a0bd89f",
   "metadata": {},
   "outputs": [],
   "source": [
    "def check_date_format(date):\n",
    "    try:\n",
    "        datetime.strptime(date, \"%d %B %Y\")\n",
    "        return True\n",
    "    except:\n",
    "        return False"
   ]
  },
  {
   "cell_type": "code",
   "execution_count": 9,
   "id": "e0fee21d",
   "metadata": {},
   "outputs": [],
   "source": [
    "def combine_content_and_abstract(url):\n",
    "    content = all_article_content[url]['content']\n",
    "    abstract = all_article_content[url]['abstract']\n",
    "     \n",
    "    if abstract == None:\n",
    "        combined_content = content\n",
    "    elif content == None:\n",
    "        combined_content = abstract\n",
    "    else:\n",
    "        combined_content = ' '.join([abstract, content])\n",
    "    \n",
    "    return combined_content"
   ]
  },
  {
   "cell_type": "code",
   "execution_count": 7,
   "id": "3264659a",
   "metadata": {},
   "outputs": [],
   "source": [
    "def get_lang_detector(nlp, name):\n",
    "    return LanguageDetector()\n",
    "\n",
    "nlp = spacy.load(\"en_core_web_sm\")\n",
    "Language.factory(\"language_detector\", func=get_lang_detector)\n",
    "nlp.add_pipe('language_detector', last=True)\n",
    "\n",
    "def language_detection(doc):\n",
    "    doc = nlp(doc)\n",
    "    return doc._.language['language']=='en'"
   ]
  },
  {
   "cell_type": "markdown",
   "id": "9ab5fce2",
   "metadata": {},
   "source": [
    "## Get English docs, check date  format, and save"
   ]
  },
  {
   "cell_type": "code",
   "execution_count": 11,
   "id": "59b33ef2",
   "metadata": {},
   "outputs": [
    {
     "name": "stdout",
     "output_type": "stream",
     "text": [
      "Folder named training_data exists\n"
     ]
    }
   ],
   "source": [
    "if not os.path.exists('training_data'):\n",
    "    os.makedirs('training_data')\n",
    "    print('Created folder named training_data')\n",
    "    \n",
    "else:\n",
    "    print('Folder named training_data exists')"
   ]
  },
  {
   "cell_type": "code",
   "execution_count": 29,
   "id": "d4924faf",
   "metadata": {},
   "outputs": [
    {
     "name": "stderr",
     "output_type": "stream",
     "text": [
      "Processing: 100%|██████████| 8680/8680 [00:00<00:00, 49984.43it/s]"
     ]
    },
    {
     "name": "stdout",
     "output_type": "stream",
     "text": [
      "length of wto_eng_docs 0\n"
     ]
    },
    {
     "name": "stderr",
     "output_type": "stream",
     "text": [
      "\n"
     ]
    }
   ],
   "source": [
    "wto_eng_docs = {}\n",
    "idx = 0\n",
    "\n",
    "for url in tqdm(all_article_content.keys(), desc='Processing'):\n",
    "    try:\n",
    "        date = all_article_content[url]['date']\n",
    "        doc = combine_content_and_abstract(url)\n",
    "        \n",
    "        if check_date_format(date) and language_detection(doc):\n",
    "            wto_eng_docs.update({url: {'date': date, 'doc': doc}})\n",
    "            \n",
    "    except:\n",
    "        pass\n",
    "    \n",
    "    if idx % 100 == 0:\n",
    "        with open('training_data/wto_eng_docs.json', 'w') as f:\n",
    "            json.dump(wto_eng_docs, f)\n",
    "    idx += 1\n",
    "\n",
    "with open('training_data/wto_eng_docs.json', 'w') as f:\n",
    "    json.dump(wto_eng_docs, f)\n",
    "\n",
    "print(f'length of wto_eng_docs {len(wto_eng_docs)}')"
   ]
  },
  {
   "cell_type": "code",
   "execution_count": 16,
   "id": "da09b964",
   "metadata": {},
   "outputs": [
    {
     "data": {
      "text/plain": [
       "8296"
      ]
     },
     "execution_count": 16,
     "metadata": {},
     "output_type": "execute_result"
    }
   ],
   "source": [
    "len(wto_eng_docs)"
   ]
  }
 ],
 "metadata": {
  "kernelspec": {
   "display_name": "python39",
   "language": "python",
   "name": "python3"
  },
  "language_info": {
   "codemirror_mode": {
    "name": "ipython",
    "version": 3
   },
   "file_extension": ".py",
   "mimetype": "text/x-python",
   "name": "python",
   "nbconvert_exporter": "python",
   "pygments_lexer": "ipython3",
   "version": "3.9.17"
  }
 },
 "nbformat": 4,
 "nbformat_minor": 5
}
